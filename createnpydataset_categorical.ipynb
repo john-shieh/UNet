{
 "cells": [
  {
   "cell_type": "code",
   "execution_count": 1,
   "metadata": {},
   "outputs": [
    {
     "name": "stdout",
     "output_type": "stream",
     "text": [
      "/Users/johnshieh/Lab2020/unet/testappend/images/\n",
      "/Users/johnshieh/Lab2020/unet/testappend/masks/\n"
     ]
    }
   ],
   "source": [
    "import numpy as np\n",
    "import pandas as pd\n",
    "import matplotlib.pyplot as plt\n",
    "import matplotlib.colors\n",
    "import os\n",
    "import skimage.io\n",
    "import numpy as np\n",
    "from tqdm import tqdm\n",
    "import cv2\n",
    "from glob import glob\n",
    "import warnings\n",
    "import random\n",
    "from PIL import Image\n",
    "from tensorflow.keras.utils import to_categorical\n",
    "\n",
    "label_map = {'normal':1,\n",
    "             'fibrosis':2,\n",
    "             'tumor':3,\n",
    "            }\n",
    "def create_directory(directory):\n",
    "    '''\n",
    "    Creates a new folder in the specified directory if the folder doesn't exist.\n",
    "    INPUT\n",
    "        directory: Folder to be created, called as \"folder/\".\n",
    "    OUTPUT\n",
    "        New folder in the current directory.\n",
    "    '''\n",
    "    if not os.path.exists(directory):\n",
    "        os.makedirs(directory)\n",
    "        \n",
    "        \n",
    "        \n",
    "def read_nuclei(path):\n",
    "    \"Read raw data\"\n",
    "\n",
    "    # Load 4-channel image\n",
    "    if len(path) == 0:\n",
    "        return None\n",
    "    \n",
    "    img = skimage.io.imread(path)\n",
    "    \n",
    "    # input image\n",
    "    if len(img.shape) > 2:\n",
    "        img = img[:,:,:3]\n",
    "    # mask\n",
    "    else:\n",
    "        # do nothing\n",
    "        pass\n",
    "        \n",
    "    return img\n",
    "\n",
    "\n",
    "\n",
    "def save_nuclei(path, img):\n",
    "    \"save image\"\n",
    "    skimage.io.imsave(path, img)\n",
    "    \n",
    "    \n",
    "def convert(img_arr, mask_arr):\n",
    "    img_arr.astype(\"float64\")\n",
    "    mask_arr.astype(\"float64\")\n",
    "    #img_arr = img_arr/255.0\n",
    "    mask_arr = to_categorical(mask_arr, num_classes=4, dtype=\"float64\")\n",
    "    return img_arr, mask_arr\n",
    "    \n",
    "    \n",
    "def visualize(**images):\n",
    "    \"\"\"Plot images in one row.\"\"\"\n",
    "    \n",
    "    norm=plt.Normalize(0,3) # 4 classes including BG\n",
    "    map_name = matplotlib.colors.LinearSegmentedColormap.from_list(\"\", [\"black\", \"red\",\"yellow\",\"blue\"])\n",
    "\n",
    "    \n",
    "    n = len(images)\n",
    "    plt.figure(figsize=(18, 16))\n",
    "    for i, (name, image) in enumerate(images.items()):\n",
    "        plt.subplot(1, n, i + 1)\n",
    "        plt.xticks([])\n",
    "        plt.yticks([])\n",
    "        plt.title(' '.join(name.split('_')).title())\n",
    "        plt.imshow(image, cmap=map_name, norm=norm)\n",
    "    plt.show()\n",
    "    \n",
    "def uniq(**in_arrs):\n",
    "    for name, arr in in_arrs.items():\n",
    "        flat_arr = arr.flatten()\n",
    "        print(\"Name: {}, Uniques: {}\".format(name, np.unique(flat_arr)))\n",
    "        \n",
    "\n",
    "# Root directory of the project\n",
    "ROOT_DIR = os.path.abspath(\"./\")\n",
    "\n",
    "# Make new folders\n",
    "DATA_DIR = os.path.join(ROOT_DIR, \"testappend/\")\n",
    "IMAGES_DIR =  os.path.join(DATA_DIR, \"images/\")\n",
    "MASKS_DIR = os.path.join(DATA_DIR, \"masks/\")\n",
    "\n",
    "print(IMAGES_DIR)\n",
    "print(MASKS_DIR)"
   ]
  },
  {
   "cell_type": "code",
   "execution_count": 2,
   "metadata": {},
   "outputs": [
    {
     "name": "stdout",
     "output_type": "stream",
     "text": [
      "15 15\n"
     ]
    }
   ],
   "source": [
    "image_fns = sorted(next(os.walk(IMAGES_DIR))[2])\n",
    "mask_fns = sorted(next(os.walk(MASKS_DIR))[2])\n",
    "print(len(image_fns), len(mask_fns))\n",
    "assert (len(image_fns) == len(mask_fns)), \"different lengths!\""
   ]
  },
  {
   "cell_type": "code",
   "execution_count": 3,
   "metadata": {},
   "outputs": [
    {
     "name": "stdout",
     "output_type": "stream",
     "text": [
      "<class 'PIL.PngImagePlugin.PngImageFile'>\n",
      "(96, 96, 3) (96, 96) <class 'numpy.ndarray'>\n",
      "Name: mask, Uniques: [0 1]\n",
      "(96, 96, 3) 255 (96, 96, 4) <class 'numpy.ndarray'> float64 1.0\n",
      "Name: arr2, Uniques: [0. 1.]\n"
     ]
    }
   ],
   "source": [
    "img0 = Image.open(os.path.join(IMAGES_DIR, image_fns[0]))\n",
    "mask0 = Image.open(os.path.join(MASKS_DIR, mask_fns[0]))\n",
    "print(type(mask0))\n",
    "img0 = np.asarray(img0)\n",
    "mask0 = np.asarray(mask0)\n",
    "print(img0.shape, mask0.shape, type(img0))\n",
    "uniq(mask=mask0)\n",
    "\n",
    "img_cv, mask_cv = convert(img0, mask0)\n",
    "print(img_cv.shape, img_cv.max(), mask_cv.shape, type(mask_cv), mask_cv.dtype, mask_cv.max())\n",
    "uniq(arr2=mask_cv)\n",
    "\n",
    "# imgcv = cv2.imread(os.path.join(IMAGES_DIR, image_fns[0]))\n",
    "# maskcv = cv2.imread(os.path.join(MASKS_DIR, mask_fns[0]))\n",
    "# print(type(imgcv), imgcv.shape)\n",
    "# print(type(maskcv), maskcv.shape, \"\\n\")\n",
    "\n",
    "# print(imgcv.shape, maskcv.shape, type(maskcv), maskcv.dtype)\n",
    "# img_cv, mask_cv = convert(imgcv, maskcv)\n",
    "# print(img_cv.shape, mask_cv.shape, type(mask_cv), mask_cv.dtype, mask_cv.max())\n",
    "# uniq(arr2=mask_cv)"
   ]
  },
  {
   "cell_type": "code",
   "execution_count": 4,
   "metadata": {},
   "outputs": [
    {
     "name": "stdout",
     "output_type": "stream",
     "text": [
      "(15, 96, 96, 3) (15, 96, 96, 4) <class 'numpy.ndarray'>\n"
     ]
    }
   ],
   "source": [
    "#make zero arrays\n",
    "joined_imgs = np.zeros((len(image_fns), img_cv.shape[0], img_cv.shape[1], img_cv.shape[2])).astype(np.float64)\n",
    "joined_masks = np.zeros((len(mask_fns), mask_cv.shape[0], mask_cv.shape[1], mask_cv.shape[2])).astype(np.float64)\n",
    "print(joined_imgs.shape, joined_masks.shape, type(joined_masks))"
   ]
  },
  {
   "cell_type": "code",
   "execution_count": 5,
   "metadata": {
    "scrolled": true
   },
   "outputs": [
    {
     "name": "stdout",
     "output_type": "stream",
     "text": [
      "(96, 96, 3) (96, 96, 4) <class 'numpy.ndarray'>\n"
     ]
    },
    {
     "data": {
      "image/png": "[encoded data removed]",
      "text/plain": [
       "<Figure size 1296x1152 with 2 Axes>"
      ]
     },
     "metadata": {},
     "output_type": "display_data"
    },
    {
     "name": "stdout",
     "output_type": "stream",
     "text": [
      "(96, 96, 3) (96, 96, 4) 0 255\n",
      "(96, 96, 4) [0 1]\n",
      "Name: mask, Uniques: [0 1]\n"
     ]
    }
   ],
   "source": [
    "print(img_cv.shape, mask_cv.shape, type(mask_cv))\n",
    "imgcv_vis = Image.fromarray((img_cv).astype(np.uint8))\n",
    "maskcv_vis = Image.fromarray((mask_cv).astype(np.uint8))\n",
    "visualize(image=imgcv_vis, mask=maskcv_vis)\n",
    "imgcvfrom = np.array(imgcv_vis)\n",
    "maskcvfrom = np.array(maskcv_vis)\n",
    "print(img_cv.shape, mask_cv.shape, img_cv.min(), img_cv.max())\n",
    "print(maskcvfrom.shape, np.unique(maskcvfrom))\n",
    "uniq(mask=maskcvfrom)"
   ]
  },
  {
   "cell_type": "code",
   "execution_count": 6,
   "metadata": {},
   "outputs": [
    {
     "name": "stderr",
     "output_type": "stream",
     "text": [
      "100%|██████████| 15/15 [00:00<00:00, 420.89it/s]"
     ]
    },
    {
     "name": "stdout",
     "output_type": "stream",
     "text": [
      "(15, 96, 96, 3) (15, 96, 96, 4) (96, 96, 4) <class 'numpy.ndarray'>\n"
     ]
    },
    {
     "name": "stderr",
     "output_type": "stream",
     "text": [
      "\n"
     ]
    }
   ],
   "source": [
    "for idx in tqdm(range(len(image_fns))):\n",
    "    img = None\n",
    "    mask = None\n",
    "#     img = cv2.imread(os.path.join(IMAGES_DIR, image_fns[idx]))\n",
    "#     mask = cv2.imread(os.path.join(MASKS_DIR, mask_fns[idx]))\n",
    "    img = Image.open(os.path.join(IMAGES_DIR, image_fns[idx]))\n",
    "    mask = Image.open(os.path.join(MASKS_DIR, mask_fns[idx]))\n",
    "    img = np.asarray(img)\n",
    "    mask = np.asarray(mask)\n",
    "    img, mask = convert(img, mask)\n",
    "    joined_imgs[idx] = img\n",
    "    joined_masks[idx] = mask\n",
    "print(joined_imgs.shape, joined_masks.shape, joined_masks[0].shape, type(joined_masks[0]))"
   ]
  },
  {
   "cell_type": "markdown",
   "metadata": {},
   "source": [
    "## testing"
   ]
  },
  {
   "cell_type": "code",
   "execution_count": 7,
   "metadata": {},
   "outputs": [
    {
     "name": "stdout",
     "output_type": "stream",
     "text": [
      "Name: mask, Uniques: [0. 1.]\n",
      "Name: mask, Uniques: [0 1]\n"
     ]
    },
    {
     "data": {
      "image/png": "[encoded data removed]",
      "text/plain": [
       "<Figure size 1296x1152 with 1 Axes>"
      ]
     },
     "metadata": {},
     "output_type": "display_data"
    },
    {
     "name": "stdout",
     "output_type": "stream",
     "text": [
      "float64\n"
     ]
    }
   ],
   "source": [
    "rand_idx = random.randrange(len(image_fns))\n",
    "rand_arr = joined_masks[rand_idx]\n",
    "uniq(mask=joined_masks[0])\n",
    "\n",
    "mask_vis = Image.fromarray((rand_arr).astype(np.uint8))\n",
    "uniq(mask=np.array(mask_vis))\n",
    "visualize(mask=mask_vis)\n",
    "print(rand_arr.dtype)"
   ]
  },
  {
   "cell_type": "markdown",
   "metadata": {},
   "source": [
    "## Save npy files"
   ]
  },
  {
   "cell_type": "code",
   "execution_count": 8,
   "metadata": {},
   "outputs": [
    {
     "name": "stdout",
     "output_type": "stream",
     "text": [
      "Name: imgs, Uniques: [  0.   3.   8.  11.  12.  13.  16.  17.  18.  19.  20.  21.  22.  24.\n",
      "  26.  29.  31.  32.  33.  34.  35.  36.  37.  38.  39.  40.  41.  42.\n",
      "  43.  44.  45.  46.  47.  48.  49.  50.  51.  52.  53.  54.  55.  56.\n",
      "  57.  58.  59.  60.  61.  62.  63.  64.  65.  66.  67.  68.  69.  70.\n",
      "  71.  72.  73.  74.  75.  76.  77.  78.  79.  80.  81.  82.  83.  84.\n",
      "  85.  86.  87.  88.  89.  90.  91.  92.  93.  94.  95.  96.  97.  98.\n",
      "  99. 100. 101. 102. 103. 104. 105. 106. 107. 108. 109. 110. 111. 112.\n",
      " 113. 114. 115. 116. 117. 118. 119. 120. 121. 122. 123. 124. 125. 126.\n",
      " 127. 128. 129. 130. 131. 132. 133. 134. 135. 136. 137. 138. 139. 140.\n",
      " 141. 142. 143. 144. 145. 146. 147. 148. 149. 150. 151. 152. 153. 154.\n",
      " 155. 156. 157. 158. 159. 160. 161. 162. 163. 164. 165. 166. 167. 168.\n",
      " 169. 170. 171. 172. 173. 174. 175. 176. 177. 178. 179. 180. 181. 182.\n",
      " 183. 184. 185. 186. 187. 188. 189. 190. 191. 192. 193. 194. 195. 196.\n",
      " 197. 198. 199. 200. 201. 202. 203. 204. 205. 206. 207. 208. 209. 210.\n",
      " 211. 212. 213. 214. 215. 216. 217. 218. 219. 220. 221. 222. 223. 224.\n",
      " 225. 226. 227. 228. 229. 230. 231. 232. 233. 234. 235. 236. 237. 238.\n",
      " 239. 240. 241. 242. 243. 244. 245. 246. 247. 248. 249. 250. 251. 252.\n",
      " 253. 254. 255.]\n",
      "Name: masks, Uniques: [0. 1.]\n"
     ]
    }
   ],
   "source": [
    "uniq(imgs=joined_imgs[0], masks=joined_masks[0])"
   ]
  },
  {
   "cell_type": "code",
   "execution_count": 9,
   "metadata": {},
   "outputs": [],
   "source": [
    "np.save(os.path.join(DATA_DIR, \"images_8\"), joined_imgs)\n",
    "np.save(os.path.join(DATA_DIR, \"masks_8\"), joined_masks)"
   ]
  },
  {
   "cell_type": "code",
   "execution_count": 10,
   "metadata": {},
   "outputs": [
    {
     "name": "stderr",
     "output_type": "stream",
     "text": [
      "Clipping input data to the valid range for imshow with RGB data ([0..1] for floats or [0..255] for integers).\n"
     ]
    },
    {
     "name": "stdout",
     "output_type": "stream",
     "text": [
      "(15, 96, 96, 3) 255.0 1.0 [  0.   1.   2.   3.   4.   5.   6.   7.   8.   9.  10.  11.  12.  13.\n",
      "  14.  15.  16.  17.  18.  19.  20.  21.  22.  23.  24.  25.  26.  27.\n",
      "  28.  29.  30.  31.  32.  33.  34.  35.  36.  37.  38.  39.  40.  41.\n",
      "  42.  43.  44.  45.  46.  47.  48.  49.  50.  51.  52.  53.  54.  55.\n",
      "  56.  57.  58.  59.  60.  61.  62.  63.  64.  65.  66.  67.  68.  69.\n",
      "  70.  71.  72.  73.  74.  75.  76.  77.  78.  79.  80.  81.  82.  83.\n",
      "  84.  85.  86.  87.  88.  89.  90.  91.  92.  93.  94.  95.  96.  97.\n",
      "  98.  99. 100. 101. 102. 103. 104. 105. 106. 107. 108. 109. 110. 111.\n",
      " 112. 113. 114. 115. 116. 117. 118. 119. 120. 121. 122. 123. 124. 125.\n",
      " 126. 127. 128. 129. 130. 131. 132. 133. 134. 135. 136. 137. 138. 139.\n",
      " 140. 141. 142. 143. 144. 145. 146. 147. 148. 149. 150. 151. 152. 153.\n",
      " 154. 155. 156. 157. 158. 159. 160. 161. 162. 163. 164. 165. 166. 167.\n",
      " 168. 169. 170. 171. 172. 173. 174. 175. 176. 177. 178. 179. 180. 181.\n",
      " 182. 183. 184. 185. 186. 187. 188. 189. 190. 191. 192. 193. 194. 195.\n",
      " 196. 197. 198. 199. 200. 201. 202. 203. 204. 205. 206. 207. 208. 209.\n",
      " 210. 211. 212. 213. 214. 215. 216. 217. 218. 219. 220. 221. 222. 223.\n",
      " 224. 225. 226. 227. 228. 229. 230. 231. 232. 233. 234. 235. 236. 237.\n",
      " 238. 239. 240. 241. 242. 243. 244. 245. 246. 247. 248. 249. 250. 251.\n",
      " 252. 253. 254. 255.] [0. 1.]\n",
      "Index: 5\n"
     ]
    },
    {
     "data": {
      "image/png": "[encoded data removed]",
      "text/plain": [
       "<Figure size 1296x1152 with 2 Axes>"
      ]
     },
     "metadata": {},
     "output_type": "display_data"
    },
    {
     "name": "stdout",
     "output_type": "stream",
     "text": [
      "float64\n"
     ]
    }
   ],
   "source": [
    "#testing npy files\n",
    "loaded_imgs = np.load(os.path.join(DATA_DIR, \"images_8.npy\"))\n",
    "loaded_masks = np.load(os.path.join(DATA_DIR, \"masks_8.npy\"))\n",
    "print(loaded_imgs.shape, loaded_imgs.max(), loaded_masks.max(), np.unique(loaded_imgs), np.unique(loaded_masks))\n",
    "rand_idx = random.randrange(len(image_fns))\n",
    "print(\"Index: {}\".format(rand_idx))\n",
    "load_img = loaded_imgs[rand_idx]\n",
    "load_mask = loaded_masks[rand_idx]\n",
    "\n",
    "visualize(image=load_img,\n",
    "         mask=load_mask)\n",
    "print(load_mask.dtype)"
   ]
  }
 ],
 "metadata": {
  "kernelspec": {
   "display_name": "Python 3",
   "language": "python",
   "name": "python3"
  },
  "language_info": {
   "codemirror_mode": {
    "name": "ipython",
    "version": 3
   },
   "file_extension": ".py",
   "mimetype": "text/x-python",
   "name": "python",
   "nbconvert_exporter": "python",
   "pygments_lexer": "ipython3",
   "version": "3.6.10"
  }
 },
 "nbformat": 4,
 "nbformat_minor": 4
}
