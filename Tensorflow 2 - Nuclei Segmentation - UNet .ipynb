{
 "cells": [
  {
   "cell_type": "markdown",
   "metadata": {},
   "source": [
    "# Nuclie Semantic Segmentation - UNet using Tensorflow 2"
   ]
  },
  {
   "cell_type": "markdown",
   "metadata": {
    "_cell_guid": "e61ef2d8-f315-4f7f-b07e-1de0f4e8441a",
    "_uuid": "1677fddbb95f7545b6540e9201f3339a0fdbfc5d"
   },
   "source": [
    "# Intro\n",
    "- Dataset used is from Kaggle's Data Science Bowl 2018 - Nuclei Segmentation\n",
    "- The architecture used is [U-Net](https://arxiv.org/abs/1505.04597), which is very common for image segmentation problems such as this.\n",
    "- This notebook is inspired from the great kernel [Keras U-net starter - LB 0.277](https://www.kaggle.com/keegil/keras-u-net-starter-lb-0-277) by Kjetil Åmdal-Sævik."
   ]
  },
  {
   "cell_type": "code",
   "execution_count": 1,
   "metadata": {
    "_cell_guid": "c332549b-8d23-4bb5-8497-e7a8eb8b21d2",
    "_uuid": "5c38504af3a84bee68c66d3cde74443c58df422f"
   },
   "outputs": [
    {
     "name": "stdout",
     "output_type": "stream",
     "text": [
      "/Users/johnshieh/Lab2020/unet/testappend/images/\n"
     ]
    }
   ],
   "source": [
    "import os\n",
    "import sys\n",
    "import random\n",
    "import warnings\n",
    "\n",
    "import numpy as np\n",
    "import pandas as pd\n",
    "\n",
    "import matplotlib\n",
    "import matplotlib.pyplot as plt\n",
    "from PIL import Image\n",
    "from tqdm import tqdm\n",
    "from itertools import chain\n",
    "from skimage.io import imread, imshow, imread_collection, concatenate_images\n",
    "from skimage.transform import resize\n",
    "from skimage.morphology import label\n",
    "from PIL import ImageFile\n",
    "from random import shuffle\n",
    "import skimage.io\n",
    "import cv2\n",
    "\n",
    "from tensorflow.keras.models import Model, load_model\n",
    "from tensorflow.keras.layers import Input\n",
    "from tensorflow.keras.layers import Dropout, Lambda\n",
    "from tensorflow.keras.layers import Conv2D, Conv2DTranspose, BatchNormalization\n",
    "from tensorflow.keras.layers import MaxPooling2D\n",
    "from tensorflow.keras.layers import concatenate\n",
    "from tensorflow.keras.callbacks import EarlyStopping, ModelCheckpoint\n",
    "from tensorflow.keras import backend as K\n",
    "\n",
    "import tensorflow as tf\n",
    "\n",
    "# Set some parameters\n",
    "IMG_WIDTH = 96\n",
    "IMG_HEIGHT = 96\n",
    "IMG_CHANNELS = 3\n",
    "\n",
    "exp_name = \"unet_images_8v3\"\n",
    "\n",
    "warnings.filterwarnings('ignore', category=UserWarning, module='skimage')\n",
    "seed = 42\n",
    "random.seed = seed\n",
    "np.random.seed = seed\n",
    "\n",
    "# Define paths\n",
    "ROOT_DIR = os.path.abspath(\".\")\n",
    "NPY_DIR = os.path.join(ROOT_DIR, \"testappend/\")\n",
    "TEST_PATH = os.path.join(ROOT_DIR, \"testappend\", \"images/\")\n",
    "LOGS_PATH = os.path.join(ROOT_DIR, \"logs\")\n",
    "print(TEST_PATH)"
   ]
  },
  {
   "cell_type": "code",
   "execution_count": 2,
   "metadata": {},
   "outputs": [],
   "source": [
    "x_train = np.load(os.path.join(NPY_DIR, \"images_8.npy\"))\n",
    "y_train = np.load(os.path.join(NPY_DIR, \"masks_8.npy\"))\n",
    "nb_cases = x_train.shape[0]\n",
    "ind_list = [i for i in range(nb_cases)]\n",
    "shuffle(ind_list)\n",
    "nb_valid = int(nb_cases*0.2)\n",
    "x_valid, y_valid = x_train[ind_list[:nb_valid]], y_train[ind_list[:nb_valid]]\n",
    "x_train, y_train = x_train[ind_list[nb_valid:]], y_train[ind_list[nb_valid:]]"
   ]
  },
  {
   "cell_type": "code",
   "execution_count": 3,
   "metadata": {},
   "outputs": [
    {
     "name": "stdout",
     "output_type": "stream",
     "text": [
      "(12, 96, 96, 3) (12, 96, 96, 4)\n",
      "1.0 1.0\n"
     ]
    }
   ],
   "source": [
    "print(x_train.shape, y_train.shape)\n",
    "\n",
    "x_train = x_train/255.0\n",
    "#y_train = y_train.astype(np.uint8)\n",
    "print(x_train.max(), y_train.max())"
   ]
  },
  {
   "cell_type": "code",
   "execution_count": 4,
   "metadata": {
    "_cell_guid": "ffa0caf0-2d1b-40f2-865b-8e6db88526b6",
    "_uuid": "3fb9d6530fbbd0e22e41fc4fd9fd9fc0bff027ac"
   },
   "outputs": [],
   "source": [
    "# # Get train and test IDs\n",
    "# train_ids = next(os.walk(TRAIN_PATH))[1]\n",
    "# test_ids = next(os.walk(TEST_PATH))[1]\n",
    "# final_test_ids = next(os.walk(FINAL_TEST_PATH))[1]"
   ]
  },
  {
   "cell_type": "markdown",
   "metadata": {
    "_cell_guid": "59c4a25d-645f-4b74-9c53-145ac78cc481",
    "_uuid": "875af74f980236825de3a650825b46e25632422c"
   },
   "source": [
    "# Get the data\n",
    "- Downsample both the training and test images to reduce computations\n",
    "- Retain record of the original sizes of the test images to upsample predicted masks and create correct run-length encodings "
   ]
  },
  {
   "cell_type": "code",
   "execution_count": 5,
   "metadata": {},
   "outputs": [],
   "source": [
    "# # Get and resize train images and masks\n",
    "# X_train = np.zeros((len(train_ids), IMG_HEIGHT, IMG_WIDTH, IMG_CHANNELS), dtype=np.uint8)\n",
    "# Y_train = np.zeros((len(train_ids), IMG_HEIGHT, IMG_WIDTH, 1), dtype=np.bool)\n",
    "# print('Getting and resizing train images and masks ... ')"
   ]
  },
  {
   "cell_type": "code",
   "execution_count": 6,
   "metadata": {
    "_cell_guid": "ca0cc34b-c26f-41ee-88d7-975aebdb634e",
    "_uuid": "9e389ba8bdb5b6fc03b231b6a6c84a8bde634053",
    "scrolled": true
   },
   "outputs": [],
   "source": [
    "# sys.stdout.flush()\n",
    "# for n, id_ in tqdm(enumerate(train_ids), total=len(train_ids)):\n",
    "    \n",
    "#     #Read image files iteratively\n",
    "#     path = TRAIN_PATH + id_\n",
    "#     img = imread(dir_path + path + '/images/' + id_ + '.png')[:,:,:IMG_CHANNELS]\n",
    "#     img = resize(img, (IMG_HEIGHT, IMG_WIDTH), mode='constant', preserve_range=True)\n",
    "    \n",
    "#     #Append image to numpy array for train dataset\n",
    "#     X_train[n] = img\n",
    "    \n",
    "#     #Read corresponding mask files iteratively\n",
    "#     mask = np.zeros((IMG_HEIGHT, IMG_WIDTH, 1), dtype=np.bool)\n",
    "    \n",
    "#     #Looping through masks\n",
    "#     for mask_file in next(os.walk(path + '/masks/'))[2]:\n",
    "        \n",
    "#         #Read individual masks\n",
    "#         mask_ = imread(dir_path + path + '/masks/' + mask_file)\n",
    "        \n",
    "#         #Expand individual mask dimensions\n",
    "#         mask_ = np.expand_dims(resize(mask_, (IMG_HEIGHT, IMG_WIDTH), mode='constant', \n",
    "#                                       preserve_range=True), axis=-1)\n",
    "        \n",
    "#         #Overlay individual masks to create a final mask for corresponding image\n",
    "#         mask = np.maximum(mask, mask_)\n",
    "    \n",
    "#     #Append mask to numpy array for train dataset\n",
    "#     Y_train[n] = mask\n",
    "\n",
    "# # Get and resize test images\n",
    "# X_test = np.zeros((len(test_ids), IMG_HEIGHT, IMG_WIDTH, IMG_CHANNELS), dtype=np.uint8)\n",
    "# sizes_test = []\n",
    "# print('Getting and resizing test images ... ')\n",
    "# sys.stdout.flush()\n",
    "# for n, id_ in tqdm(enumerate(test_ids), total=len(test_ids)):\n",
    "#     path = TEST_PATH + id_\n",
    "    \n",
    "#     #Read images iteratively\n",
    "#     img = imread(dir_path + path + '/images/' + id_ + '.png')[:,:,:IMG_CHANNELS]\n",
    "    \n",
    "#     #Get test size\n",
    "#     sizes_test.append([img.shape[0], img.shape[1]])\n",
    "    \n",
    "#     #Resize image to match training data\n",
    "#     img = resize(img, (IMG_HEIGHT, IMG_WIDTH), mode='constant', preserve_range=True)\n",
    "    \n",
    "#     #Append image to numpy array for test dataset\n",
    "#     X_test[n] = img\n",
    "\n",
    "# print('Done!')"
   ]
  },
  {
   "cell_type": "markdown",
   "metadata": {
    "_cell_guid": "c0523b03-1fc5-4505-a1b8-eb35ee617c8a",
    "_uuid": "d4f8327802a1ec6139ce0585953986272ba62ce1"
   },
   "source": [
    "## Visualize imported data"
   ]
  },
  {
   "cell_type": "code",
   "execution_count": 7,
   "metadata": {
    "_cell_guid": "88829b53-50ce-45d9-9540-77dd7384ad4c",
    "_uuid": "283af26f0860b7069bdfd133c746e5d20971542c"
   },
   "outputs": [
    {
     "data": {
      "image/png": "[encoded data removed]",
      "text/plain": [
       "<Figure size 432x288 with 1 Axes>"
      ]
     },
     "metadata": {
      "needs_background": "light"
     },
     "output_type": "display_data"
    },
    {
     "data": {
      "image/png": "[encoded data removed]",
      "text/plain": [
       "<Figure size 432x288 with 1 Axes>"
      ]
     },
     "metadata": {
      "needs_background": "light"
     },
     "output_type": "display_data"
    }
   ],
   "source": [
    "# Check if training data looks all right\n",
    "#ix = random.randint(0, len(train_ids))\n",
    "\n",
    "ix = 0\n",
    "imshow(x_train[ix])\n",
    "plt.show()\n",
    "imshow(np.squeeze(y_train[ix]))\n",
    "plt.show()"
   ]
  },
  {
   "cell_type": "code",
   "execution_count": 8,
   "metadata": {
    "_cell_guid": "c1dbc57c-b497-4ccb-b077-2053203ab7ed",
    "_uuid": "0aa97d66c29f45dfac9b0f45fcf74ba0e778ba5d"
   },
   "outputs": [],
   "source": [
    "# Build U-Net model\n",
    "inputs = Input((IMG_HEIGHT, IMG_WIDTH, IMG_CHANNELS))\n",
    "#s = Lambda(lambda x: x / 255) (inputs)\n",
    "\n",
    "c1 = Conv2D(32, (3, 3), activation='relu', kernel_initializer='he_normal', padding='same') (inputs)\n",
    "c1 = BatchNormalization()(c1)\n",
    "c1 = Dropout(0.1) (c1)\n",
    "c1 = Conv2D(32, (3, 3), activation='relu', kernel_initializer='he_normal', padding='same') (c1)\n",
    "c1 = BatchNormalization()(c1)\n",
    "p1 = MaxPooling2D((2, 2)) (c1)\n",
    "\n",
    "c2 = Conv2D(64, (3, 3), activation='relu', kernel_initializer='he_normal', padding='same') (p1)\n",
    "c2 = BatchNormalization()(c2)\n",
    "c2 = Dropout(0.1) (c2)\n",
    "c2 = Conv2D(64, (3, 3), activation='relu', kernel_initializer='he_normal', padding='same') (c2)\n",
    "c2 = BatchNormalization()(c2)\n",
    "p2 = MaxPooling2D((2, 2)) (c2)\n",
    "\n",
    "c3 = Conv2D(128, (3, 3), activation='relu', kernel_initializer='he_normal', padding='same') (p2)\n",
    "c3 = BatchNormalization()(c3)\n",
    "c3 = Dropout(0.2) (c3)\n",
    "c3 = Conv2D(128, (3, 3), activation='relu', kernel_initializer='he_normal', padding='same') (c3)\n",
    "c3 = BatchNormalization()(c3)\n",
    "p3 = MaxPooling2D((2, 2)) (c3)\n",
    "\n",
    "c4 = Conv2D(256, (3, 3), activation='relu', kernel_initializer='he_normal', padding='same') (p3)\n",
    "c4 = BatchNormalization()(c4)\n",
    "c4 = Dropout(0.2) (c4)\n",
    "c4 = Conv2D(256, (3, 3), activation='relu', kernel_initializer='he_normal', padding='same') (c4)\n",
    "c4 = BatchNormalization()(c4)\n",
    "p4 = MaxPooling2D(pool_size=(2, 2)) (c4)\n",
    "\n",
    "c5 = Conv2D(512, (3, 3), activation='relu', kernel_initializer='he_normal', padding='same') (p4)\n",
    "c5 = BatchNormalization()(c5)\n",
    "c5 = Dropout(0.3) (c5)\n",
    "c5 = Conv2D(512, (3, 3), activation='relu', kernel_initializer='he_normal', padding='same') (c5)\n",
    "c5 = BatchNormalization()(c5)\n",
    "\n",
    "u6 = Conv2DTranspose(128, (2, 2), strides=(2, 2), padding='same') (c5)\n",
    "u6 = concatenate([u6, c4])\n",
    "c6 = Conv2D(256, (3, 3), activation='relu', kernel_initializer='he_normal', padding='same') (u6)\n",
    "c6 = BatchNormalization()(c6)\n",
    "c6 = Dropout(0.2) (c6)\n",
    "c6 = Conv2D(256, (3, 3), activation='relu', kernel_initializer='he_normal', padding='same') (c6)\n",
    "c6 = BatchNormalization()(c6)\n",
    "\n",
    "u7 = Conv2DTranspose(64, (2, 2), strides=(2, 2), padding='same') (c6)\n",
    "u7 = concatenate([u7, c3])\n",
    "c7 = Conv2D(128, (3, 3), activation='relu', kernel_initializer='he_normal', padding='same') (u7)\n",
    "c7 = BatchNormalization()(c7)\n",
    "c7 = Dropout(0.2) (c7)\n",
    "c7 = Conv2D(128, (3, 3), activation='relu', kernel_initializer='he_normal', padding='same') (c7)\n",
    "c7 = BatchNormalization()(c7)\n",
    "\n",
    "u8 = Conv2DTranspose(32, (2, 2), strides=(2, 2), padding='same') (c7)\n",
    "u8 = concatenate([u8, c2])\n",
    "c8 = Conv2D(64, (3, 3), activation='relu', kernel_initializer='he_normal', padding='same') (u8)\n",
    "c8 = BatchNormalization()(c8)\n",
    "c8 = Dropout(0.1) (c8)\n",
    "c8 = Conv2D(64, (3, 3), activation='relu', kernel_initializer='he_normal', padding='same') (c8)\n",
    "c8 = BatchNormalization()(c8)\n",
    "\n",
    "u9 = Conv2DTranspose(16, (2, 2), strides=(2, 2), padding='same') (c8)\n",
    "u9 = concatenate([u9, c1], axis=3)\n",
    "c9 = Conv2D(32, (3, 3), activation='relu', kernel_initializer='he_normal', padding='same') (u9)\n",
    "c9 = BatchNormalization()(c9)\n",
    "c9 = Dropout(0.1) (c9)\n",
    "c9 = Conv2D(32, (3, 3), activation='relu', kernel_initializer='he_normal', padding='same') (c9)\n",
    "c9 = BatchNormalization()(c9)\n",
    "\n",
    "outputs = Conv2D(4, (1, 1), activation='softmax') (c9)\n"
   ]
  },
  {
   "cell_type": "code",
   "execution_count": 9,
   "metadata": {},
   "outputs": [
    {
     "name": "stdout",
     "output_type": "stream",
     "text": [
      "Model: \"model\"\n",
      "__________________________________________________________________________________________________\n",
      "Layer (type)                    Output Shape         Param #     Connected to                     \n",
      "==================================================================================================\n",
      "input_1 (InputLayer)            [(None, 96, 96, 3)]  0                                            \n",
      "__________________________________________________________________________________________________\n",
      "conv2d (Conv2D)                 (None, 96, 96, 32)   896         input_1[0][0]                    \n",
      "__________________________________________________________________________________________________\n",
      "batch_normalization (BatchNorma (None, 96, 96, 32)   128         conv2d[0][0]                     \n",
      "__________________________________________________________________________________________________\n",
      "dropout (Dropout)               (None, 96, 96, 32)   0           batch_normalization[0][0]        \n",
      "__________________________________________________________________________________________________\n",
      "conv2d_1 (Conv2D)               (None, 96, 96, 32)   9248        dropout[0][0]                    \n",
      "__________________________________________________________________________________________________\n",
      "batch_normalization_1 (BatchNor (None, 96, 96, 32)   128         conv2d_1[0][0]                   \n",
      "__________________________________________________________________________________________________\n",
      "max_pooling2d (MaxPooling2D)    (None, 48, 48, 32)   0           batch_normalization_1[0][0]      \n",
      "__________________________________________________________________________________________________\n",
      "conv2d_2 (Conv2D)               (None, 48, 48, 64)   18496       max_pooling2d[0][0]              \n",
      "__________________________________________________________________________________________________\n",
      "batch_normalization_2 (BatchNor (None, 48, 48, 64)   256         conv2d_2[0][0]                   \n",
      "__________________________________________________________________________________________________\n",
      "dropout_1 (Dropout)             (None, 48, 48, 64)   0           batch_normalization_2[0][0]      \n",
      "__________________________________________________________________________________________________\n",
      "conv2d_3 (Conv2D)               (None, 48, 48, 64)   36928       dropout_1[0][0]                  \n",
      "__________________________________________________________________________________________________\n",
      "batch_normalization_3 (BatchNor (None, 48, 48, 64)   256         conv2d_3[0][0]                   \n",
      "__________________________________________________________________________________________________\n",
      "max_pooling2d_1 (MaxPooling2D)  (None, 24, 24, 64)   0           batch_normalization_3[0][0]      \n",
      "__________________________________________________________________________________________________\n",
      "conv2d_4 (Conv2D)               (None, 24, 24, 128)  73856       max_pooling2d_1[0][0]            \n",
      "__________________________________________________________________________________________________\n",
      "batch_normalization_4 (BatchNor (None, 24, 24, 128)  512         conv2d_4[0][0]                   \n",
      "__________________________________________________________________________________________________\n",
      "dropout_2 (Dropout)             (None, 24, 24, 128)  0           batch_normalization_4[0][0]      \n",
      "__________________________________________________________________________________________________\n",
      "conv2d_5 (Conv2D)               (None, 24, 24, 128)  147584      dropout_2[0][0]                  \n",
      "__________________________________________________________________________________________________\n",
      "batch_normalization_5 (BatchNor (None, 24, 24, 128)  512         conv2d_5[0][0]                   \n",
      "__________________________________________________________________________________________________\n",
      "max_pooling2d_2 (MaxPooling2D)  (None, 12, 12, 128)  0           batch_normalization_5[0][0]      \n",
      "__________________________________________________________________________________________________\n",
      "conv2d_6 (Conv2D)               (None, 12, 12, 256)  295168      max_pooling2d_2[0][0]            \n",
      "__________________________________________________________________________________________________\n",
      "batch_normalization_6 (BatchNor (None, 12, 12, 256)  1024        conv2d_6[0][0]                   \n",
      "__________________________________________________________________________________________________\n",
      "dropout_3 (Dropout)             (None, 12, 12, 256)  0           batch_normalization_6[0][0]      \n",
      "__________________________________________________________________________________________________\n",
      "conv2d_7 (Conv2D)               (None, 12, 12, 256)  590080      dropout_3[0][0]                  \n",
      "__________________________________________________________________________________________________\n",
      "batch_normalization_7 (BatchNor (None, 12, 12, 256)  1024        conv2d_7[0][0]                   \n",
      "__________________________________________________________________________________________________\n",
      "max_pooling2d_3 (MaxPooling2D)  (None, 6, 6, 256)    0           batch_normalization_7[0][0]      \n",
      "__________________________________________________________________________________________________\n",
      "conv2d_8 (Conv2D)               (None, 6, 6, 512)    1180160     max_pooling2d_3[0][0]            \n",
      "__________________________________________________________________________________________________\n",
      "batch_normalization_8 (BatchNor (None, 6, 6, 512)    2048        conv2d_8[0][0]                   \n",
      "__________________________________________________________________________________________________\n",
      "dropout_4 (Dropout)             (None, 6, 6, 512)    0           batch_normalization_8[0][0]      \n",
      "__________________________________________________________________________________________________\n",
      "conv2d_9 (Conv2D)               (None, 6, 6, 512)    2359808     dropout_4[0][0]                  \n",
      "__________________________________________________________________________________________________\n",
      "batch_normalization_9 (BatchNor (None, 6, 6, 512)    2048        conv2d_9[0][0]                   \n",
      "__________________________________________________________________________________________________\n",
      "conv2d_transpose (Conv2DTranspo (None, 12, 12, 128)  262272      batch_normalization_9[0][0]      \n",
      "__________________________________________________________________________________________________\n",
      "concatenate (Concatenate)       (None, 12, 12, 384)  0           conv2d_transpose[0][0]           \n",
      "                                                                 batch_normalization_7[0][0]      \n",
      "__________________________________________________________________________________________________\n",
      "conv2d_10 (Conv2D)              (None, 12, 12, 256)  884992      concatenate[0][0]                \n",
      "__________________________________________________________________________________________________\n",
      "batch_normalization_10 (BatchNo (None, 12, 12, 256)  1024        conv2d_10[0][0]                  \n",
      "__________________________________________________________________________________________________\n",
      "dropout_5 (Dropout)             (None, 12, 12, 256)  0           batch_normalization_10[0][0]     \n",
      "__________________________________________________________________________________________________\n",
      "conv2d_11 (Conv2D)              (None, 12, 12, 256)  590080      dropout_5[0][0]                  \n",
      "__________________________________________________________________________________________________\n",
      "batch_normalization_11 (BatchNo (None, 12, 12, 256)  1024        conv2d_11[0][0]                  \n",
      "__________________________________________________________________________________________________\n",
      "conv2d_transpose_1 (Conv2DTrans (None, 24, 24, 64)   65600       batch_normalization_11[0][0]     \n",
      "__________________________________________________________________________________________________\n",
      "concatenate_1 (Concatenate)     (None, 24, 24, 192)  0           conv2d_transpose_1[0][0]         \n",
      "                                                                 batch_normalization_5[0][0]      \n",
      "__________________________________________________________________________________________________\n",
      "conv2d_12 (Conv2D)              (None, 24, 24, 128)  221312      concatenate_1[0][0]              \n",
      "__________________________________________________________________________________________________\n",
      "batch_normalization_12 (BatchNo (None, 24, 24, 128)  512         conv2d_12[0][0]                  \n",
      "__________________________________________________________________________________________________\n",
      "dropout_6 (Dropout)             (None, 24, 24, 128)  0           batch_normalization_12[0][0]     \n",
      "__________________________________________________________________________________________________\n",
      "conv2d_13 (Conv2D)              (None, 24, 24, 128)  147584      dropout_6[0][0]                  \n",
      "__________________________________________________________________________________________________\n",
      "batch_normalization_13 (BatchNo (None, 24, 24, 128)  512         conv2d_13[0][0]                  \n",
      "__________________________________________________________________________________________________\n",
      "conv2d_transpose_2 (Conv2DTrans (None, 48, 48, 32)   16416       batch_normalization_13[0][0]     \n",
      "__________________________________________________________________________________________________\n",
      "concatenate_2 (Concatenate)     (None, 48, 48, 96)   0           conv2d_transpose_2[0][0]         \n",
      "                                                                 batch_normalization_3[0][0]      \n",
      "__________________________________________________________________________________________________\n",
      "conv2d_14 (Conv2D)              (None, 48, 48, 64)   55360       concatenate_2[0][0]              \n",
      "__________________________________________________________________________________________________\n",
      "batch_normalization_14 (BatchNo (None, 48, 48, 64)   256         conv2d_14[0][0]                  \n",
      "__________________________________________________________________________________________________\n",
      "dropout_7 (Dropout)             (None, 48, 48, 64)   0           batch_normalization_14[0][0]     \n",
      "__________________________________________________________________________________________________\n",
      "conv2d_15 (Conv2D)              (None, 48, 48, 64)   36928       dropout_7[0][0]                  \n",
      "__________________________________________________________________________________________________\n",
      "batch_normalization_15 (BatchNo (None, 48, 48, 64)   256         conv2d_15[0][0]                  \n",
      "__________________________________________________________________________________________________\n",
      "conv2d_transpose_3 (Conv2DTrans (None, 96, 96, 16)   4112        batch_normalization_15[0][0]     \n",
      "__________________________________________________________________________________________________\n",
      "concatenate_3 (Concatenate)     (None, 96, 96, 48)   0           conv2d_transpose_3[0][0]         \n",
      "                                                                 batch_normalization_1[0][0]      \n",
      "__________________________________________________________________________________________________\n",
      "conv2d_16 (Conv2D)              (None, 96, 96, 32)   13856       concatenate_3[0][0]              \n",
      "__________________________________________________________________________________________________\n",
      "batch_normalization_16 (BatchNo (None, 96, 96, 32)   128         conv2d_16[0][0]                  \n",
      "__________________________________________________________________________________________________\n",
      "dropout_8 (Dropout)             (None, 96, 96, 32)   0           batch_normalization_16[0][0]     \n",
      "__________________________________________________________________________________________________\n",
      "conv2d_17 (Conv2D)              (None, 96, 96, 32)   9248        dropout_8[0][0]                  \n",
      "__________________________________________________________________________________________________\n",
      "batch_normalization_17 (BatchNo (None, 96, 96, 32)   128         conv2d_17[0][0]                  \n",
      "__________________________________________________________________________________________________\n",
      "conv2d_18 (Conv2D)              (None, 96, 96, 4)    132         batch_normalization_17[0][0]     \n",
      "==================================================================================================\n",
      "Total params: 7,031,892\n",
      "Trainable params: 7,026,004\n",
      "Non-trainable params: 5,888\n",
      "__________________________________________________________________________________________________\n"
     ]
    }
   ],
   "source": [
    "model = Model(inputs=[inputs], outputs=[outputs])\n",
    "model.compile(optimizer='adam', loss='categorical_crossentropy', metrics=[tf.keras.metrics.MeanIoU(num_classes=4), 'accuracy'])\n",
    "model.summary()"
   ]
  },
  {
   "cell_type": "code",
   "execution_count": 10,
   "metadata": {
    "_cell_guid": "9415b1c4-aa69-41b9-a1e3-d6053dbd4f64",
    "_uuid": "c060db22daa2abf12b28240cd81bbcbf1ce1bf87",
    "scrolled": true
   },
   "outputs": [
    {
     "name": "stdout",
     "output_type": "stream",
     "text": [
      "Train on 12 samples, validate on 3 samples\n",
      "Epoch 1/100\n",
      "11/12 [==========================>...] - ETA: 0s - loss: 1.1785 - mean_io_u: 0.3750 - accuracy: 0.6111\n",
      "Epoch 00001: val_loss improved from inf to 14.47648, saving model to /Users/johnshieh/Lab2020/unet/logs/unet_images_8v3.h5\n",
      "12/12 [==============================] - 10s 793ms/sample - loss: 1.1360 - mean_io_u: 0.3750 - accuracy: 0.6326 - val_loss: 14.4765 - val_mean_io_u: 0.2979 - val_accuracy: 0.1012\n",
      "Epoch 2/100\n",
      "11/12 [==========================>...] - ETA: 0s - loss: 0.6136 - mean_io_u: 0.3750 - accuracy: 0.9230\n",
      "Epoch 00002: val_loss did not improve from 14.47648\n",
      "12/12 [==============================] - 2s 192ms/sample - loss: 0.5954 - mean_io_u: 0.3750 - accuracy: 0.9270 - val_loss: 14.5216 - val_mean_io_u: 0.2956 - val_accuracy: 0.0989\n",
      "Epoch 3/100\n",
      "11/12 [==========================>...] - ETA: 0s - loss: 0.4301 - mean_io_u: 0.3750 - accuracy: 0.9627\n",
      "Epoch 00003: val_loss improved from 14.47648 to 14.31161, saving model to /Users/johnshieh/Lab2020/unet/logs/unet_images_8v3.h5\n",
      "12/12 [==============================] - 3s 232ms/sample - loss: 0.4281 - mean_io_u: 0.3750 - accuracy: 0.9632 - val_loss: 14.3116 - val_mean_io_u: 0.3014 - val_accuracy: 0.1121\n",
      "Epoch 4/100\n",
      "11/12 [==========================>...] - ETA: 0s - loss: 0.3240 - mean_io_u: 0.3750 - accuracy: 0.9740\n",
      "Epoch 00004: val_loss improved from 14.31161 to 14.31146, saving model to /Users/johnshieh/Lab2020/unet/logs/unet_images_8v3.h5\n",
      "12/12 [==============================] - 3s 254ms/sample - loss: 0.3257 - mean_io_u: 0.3750 - accuracy: 0.9729 - val_loss: 14.3115 - val_mean_io_u: 0.3015 - val_accuracy: 0.1120\n",
      "Epoch 5/100\n",
      "11/12 [==========================>...] - ETA: 0s - loss: 0.2638 - mean_io_u: 0.3750 - accuracy: 0.9774\n",
      "Epoch 00005: val_loss did not improve from 14.31146\n",
      "12/12 [==============================] - 3s 230ms/sample - loss: 0.2645 - mean_io_u: 0.3750 - accuracy: 0.9775 - val_loss: 14.3597 - val_mean_io_u: 0.3011 - val_accuracy: 0.1088\n",
      "Epoch 6/100\n",
      "11/12 [==========================>...] - ETA: 0s - loss: 0.2076 - mean_io_u: 0.3750 - accuracy: 0.9813\n",
      "Epoch 00006: val_loss improved from 14.31146 to 13.12909, saving model to /Users/johnshieh/Lab2020/unet/logs/unet_images_8v3.h5\n",
      "12/12 [==============================] - 3s 245ms/sample - loss: 0.2066 - mean_io_u: 0.3750 - accuracy: 0.9812 - val_loss: 13.1291 - val_mean_io_u: 0.3419 - val_accuracy: 0.1833\n",
      "Epoch 7/100\n",
      "11/12 [==========================>...] - ETA: 0s - loss: 0.1453 - mean_io_u: 0.3750 - accuracy: 0.9861\n",
      "Epoch 00007: val_loss improved from 13.12909 to 12.86815, saving model to /Users/johnshieh/Lab2020/unet/logs/unet_images_8v3.h5\n",
      "12/12 [==============================] - 3s 241ms/sample - loss: 0.1512 - mean_io_u: 0.3750 - accuracy: 0.9857 - val_loss: 12.8681 - val_mean_io_u: 0.3493 - val_accuracy: 0.2008\n",
      "Epoch 8/100\n",
      "11/12 [==========================>...] - ETA: 0s - loss: 0.1310 - mean_io_u: 0.3750 - accuracy: 0.9864\n",
      "Epoch 00008: val_loss did not improve from 12.86815\n",
      "12/12 [==============================] - 3s 212ms/sample - loss: 0.1317 - mean_io_u: 0.3750 - accuracy: 0.9867 - val_loss: 14.4487 - val_mean_io_u: 0.2989 - val_accuracy: 0.1027\n",
      "Epoch 9/100\n",
      "11/12 [==========================>...] - ETA: 0s - loss: 0.1224 - mean_io_u: 0.3750 - accuracy: 0.9853\n",
      "Epoch 00009: val_loss did not improve from 12.86815\n",
      "12/12 [==============================] - 3s 222ms/sample - loss: 0.1265 - mean_io_u: 0.3750 - accuracy: 0.9848 - val_loss: 13.1724 - val_mean_io_u: 0.3393 - val_accuracy: 0.1818\n",
      "Epoch 10/100\n",
      "11/12 [==========================>...] - ETA: 0s - loss: 0.0966 - mean_io_u: 0.3750 - accuracy: 0.9879\n",
      "Epoch 00010: val_loss improved from 12.86815 to 9.45722, saving model to /Users/johnshieh/Lab2020/unet/logs/unet_images_8v3.h5\n",
      "12/12 [==============================] - 3s 242ms/sample - loss: 0.0959 - mean_io_u: 0.3750 - accuracy: 0.9884 - val_loss: 9.4572 - val_mean_io_u: 0.4756 - val_accuracy: 0.4109\n",
      "Epoch 11/100\n",
      "11/12 [==========================>...] - ETA: 0s - loss: 0.0843 - mean_io_u: 0.3750 - accuracy: 0.9889\n",
      "Epoch 00011: val_loss did not improve from 9.45722\n",
      "12/12 [==============================] - 2s 207ms/sample - loss: 0.0821 - mean_io_u: 0.3750 - accuracy: 0.9893 - val_loss: 9.7773 - val_mean_io_u: 0.4642 - val_accuracy: 0.3906\n",
      "Epoch 12/100\n",
      "11/12 [==========================>...] - ETA: 0s - loss: 0.0611 - mean_io_u: 0.3750 - accuracy: 0.9925\n",
      "Epoch 00012: val_loss improved from 9.45722 to 4.88496, saving model to /Users/johnshieh/Lab2020/unet/logs/unet_images_8v3.h5\n",
      "12/12 [==============================] - 3s 251ms/sample - loss: 0.0615 - mean_io_u: 0.3750 - accuracy: 0.9924 - val_loss: 4.8850 - val_mean_io_u: 0.6889 - val_accuracy: 0.6941\n",
      "Epoch 13/100\n",
      "11/12 [==========================>...] - ETA: 0s - loss: 0.0486 - mean_io_u: 0.3750 - accuracy: 0.9936\n",
      "Epoch 00013: val_loss improved from 4.88496 to 4.71856, saving model to /Users/johnshieh/Lab2020/unet/logs/unet_images_8v3.h5\n",
      "12/12 [==============================] - 3s 248ms/sample - loss: 0.0495 - mean_io_u: 0.3750 - accuracy: 0.9937 - val_loss: 4.7186 - val_mean_io_u: 0.6966 - val_accuracy: 0.7033\n",
      "Epoch 14/100\n",
      "11/12 [==========================>...] - ETA: 0s - loss: 0.0424 - mean_io_u: 0.3750 - accuracy: 0.9945\n",
      "Epoch 00014: val_loss improved from 4.71856 to 2.97605, saving model to /Users/johnshieh/Lab2020/unet/logs/unet_images_8v3.h5\n",
      "12/12 [==============================] - 3s 273ms/sample - loss: 0.0461 - mean_io_u: 0.3750 - accuracy: 0.9939 - val_loss: 2.9760 - val_mean_io_u: 0.7898 - val_accuracy: 0.8127\n",
      "Epoch 15/100\n",
      "11/12 [==========================>...] - ETA: 0s - loss: 0.0471 - mean_io_u: 0.3750 - accuracy: 0.9929\n",
      "Epoch 00015: val_loss did not improve from 2.97605\n",
      "12/12 [==============================] - 3s 247ms/sample - loss: 0.0468 - mean_io_u: 0.3750 - accuracy: 0.9931 - val_loss: 5.4569 - val_mean_io_u: 0.6626 - val_accuracy: 0.6561\n",
      "Epoch 16/100\n",
      "11/12 [==========================>...] - ETA: 0s - loss: 0.0374 - mean_io_u: 0.3750 - accuracy: 0.9945\n",
      "Epoch 00016: val_loss improved from 2.97605 to 2.12267, saving model to /Users/johnshieh/Lab2020/unet/logs/unet_images_8v3.h5\n",
      "12/12 [==============================] - 3s 253ms/sample - loss: 0.0388 - mean_io_u: 0.3750 - accuracy: 0.9941 - val_loss: 2.1227 - val_mean_io_u: 0.8430 - val_accuracy: 0.8680\n",
      "Epoch 17/100\n",
      "11/12 [==========================>...] - ETA: 0s - loss: 0.0329 - mean_io_u: 0.3750 - accuracy: 0.9948\n",
      "Epoch 00017: val_loss did not improve from 2.12267\n",
      "12/12 [==============================] - 3s 223ms/sample - loss: 0.0342 - mean_io_u: 0.3750 - accuracy: 0.9948 - val_loss: 2.3149 - val_mean_io_u: 0.8303 - val_accuracy: 0.8551\n",
      "Epoch 18/100\n",
      "11/12 [==========================>...] - ETA: 0s - loss: 0.0296 - mean_io_u: 0.3750 - accuracy: 0.9954\n",
      "Epoch 00018: val_loss did not improve from 2.12267\n",
      "12/12 [==============================] - 3s 234ms/sample - loss: 0.0286 - mean_io_u: 0.3750 - accuracy: 0.9956 - val_loss: 2.4259 - val_mean_io_u: 0.8232 - val_accuracy: 0.8473\n",
      "Epoch 19/100\n",
      "11/12 [==========================>...] - ETA: 0s - loss: 0.0264 - mean_io_u: 0.3750 - accuracy: 0.9957\n",
      "Epoch 00019: val_loss did not improve from 2.12267\n",
      "12/12 [==============================] - 3s 213ms/sample - loss: 0.0272 - mean_io_u: 0.3750 - accuracy: 0.9956 - val_loss: 2.1514 - val_mean_io_u: 0.8398 - val_accuracy: 0.8661\n",
      "Epoch 20/100\n",
      "11/12 [==========================>...] - ETA: 0s - loss: 0.0221 - mean_io_u: 0.3750 - accuracy: 0.9968\n",
      "Epoch 00020: val_loss did not improve from 2.12267\n",
      "12/12 [==============================] - 3s 213ms/sample - loss: 0.0224 - mean_io_u: 0.3750 - accuracy: 0.9968 - val_loss: 2.1479 - val_mean_io_u: 0.8408 - val_accuracy: 0.8664\n",
      "Epoch 21/100\n",
      "11/12 [==========================>...] - ETA: 0s - loss: 0.0182 - mean_io_u: 0.3750 - accuracy: 0.9972\n",
      "Epoch 00021: val_loss improved from 2.12267 to 2.03435, saving model to /Users/johnshieh/Lab2020/unet/logs/unet_images_8v3.h5\n",
      "12/12 [==============================] - 3s 246ms/sample - loss: 0.0199 - mean_io_u: 0.3750 - accuracy: 0.9970 - val_loss: 2.0343 - val_mean_io_u: 0.8475 - val_accuracy: 0.8734\n",
      "Epoch 22/100\n"
     ]
    },
    {
     "name": "stdout",
     "output_type": "stream",
     "text": [
      "11/12 [==========================>...] - ETA: 0s - loss: 0.0180 - mean_io_u: 0.3750 - accuracy: 0.9974\n",
      "Epoch 00022: val_loss did not improve from 2.03435\n",
      "12/12 [==============================] - 3s 245ms/sample - loss: 0.0177 - mean_io_u: 0.3750 - accuracy: 0.9974 - val_loss: 2.1734 - val_mean_io_u: 0.8388 - val_accuracy: 0.8649\n",
      "Epoch 23/100\n",
      "11/12 [==========================>...] - ETA: 0s - loss: 0.0201 - mean_io_u: 0.3750 - accuracy: 0.9966\n",
      "Epoch 00023: val_loss did not improve from 2.03435\n",
      "12/12 [==============================] - 3s 253ms/sample - loss: 0.0192 - mean_io_u: 0.3750 - accuracy: 0.9968 - val_loss: 2.1903 - val_mean_io_u: 0.8379 - val_accuracy: 0.8633\n",
      "Epoch 24/100\n",
      "11/12 [==========================>...] - ETA: 0s - loss: 0.0189 - mean_io_u: 0.3750 - accuracy: 0.9971\n",
      "Epoch 00024: val_loss did not improve from 2.03435\n",
      "12/12 [==============================] - 3s 227ms/sample - loss: 0.0181 - mean_io_u: 0.3750 - accuracy: 0.9972 - val_loss: 2.0689 - val_mean_io_u: 0.8453 - val_accuracy: 0.8714\n",
      "Epoch 25/100\n",
      "11/12 [==========================>...] - ETA: 0s - loss: 0.0182 - mean_io_u: 0.3750 - accuracy: 0.9967\n",
      "Epoch 00025: val_loss did not improve from 2.03435\n",
      "12/12 [==============================] - 3s 220ms/sample - loss: 0.0173 - mean_io_u: 0.3750 - accuracy: 0.9969 - val_loss: 2.3526 - val_mean_io_u: 0.8289 - val_accuracy: 0.8532\n",
      "Epoch 26/100\n",
      "11/12 [==========================>...] - ETA: 0s - loss: 0.0187 - mean_io_u: 0.3750 - accuracy: 0.9964\n",
      "Epoch 00026: val_loss did not improve from 2.03435\n",
      "12/12 [==============================] - 3s 226ms/sample - loss: 0.0177 - mean_io_u: 0.3750 - accuracy: 0.9967 - val_loss: 2.0774 - val_mean_io_u: 0.8447 - val_accuracy: 0.8710\n",
      "Epoch 27/100\n",
      "11/12 [==========================>...] - ETA: 0s - loss: 0.0203 - mean_io_u: 0.3750 - accuracy: 0.9963\n",
      "Epoch 00027: val_loss did not improve from 2.03435\n",
      "12/12 [==============================] - 3s 214ms/sample - loss: 0.0192 - mean_io_u: 0.3750 - accuracy: 0.9965 - val_loss: 2.2417 - val_mean_io_u: 0.8342 - val_accuracy: 0.8599\n",
      "Epoch 28/100\n",
      "11/12 [==========================>...] - ETA: 0s - loss: 0.0164 - mean_io_u: 0.3750 - accuracy: 0.9967\n",
      "Epoch 00028: val_loss did not improve from 2.03435\n",
      "12/12 [==============================] - 3s 212ms/sample - loss: 0.0166 - mean_io_u: 0.3750 - accuracy: 0.9967 - val_loss: 2.1286 - val_mean_io_u: 0.8413 - val_accuracy: 0.8677\n",
      "Epoch 29/100\n",
      "11/12 [==========================>...] - ETA: 0s - loss: 0.0134 - mean_io_u: 0.3750 - accuracy: 0.9977\n",
      "Epoch 00029: val_loss did not improve from 2.03435\n",
      "12/12 [==============================] - 2s 204ms/sample - loss: 0.0127 - mean_io_u: 0.3750 - accuracy: 0.9979 - val_loss: 2.1491 - val_mean_io_u: 0.8401 - val_accuracy: 0.8662\n",
      "Epoch 30/100\n",
      "11/12 [==========================>...] - ETA: 0s - loss: 0.0117 - mean_io_u: 0.3750 - accuracy: 0.9982\n",
      "Epoch 00030: val_loss did not improve from 2.03435\n",
      "12/12 [==============================] - 2s 205ms/sample - loss: 0.0115 - mean_io_u: 0.3750 - accuracy: 0.9981 - val_loss: 2.0988 - val_mean_io_u: 0.8431 - val_accuracy: 0.8693\n",
      "Epoch 31/100\n",
      "11/12 [==========================>...] - ETA: 0s - loss: 0.0111 - mean_io_u: 0.3750 - accuracy: 0.9981\n",
      "Epoch 00031: val_loss did not improve from 2.03435\n",
      "12/12 [==============================] - 2s 208ms/sample - loss: 0.0107 - mean_io_u: 0.3750 - accuracy: 0.9982 - val_loss: 2.1100 - val_mean_io_u: 0.8425 - val_accuracy: 0.8688\n",
      "Epoch 32/100\n",
      "11/12 [==========================>...] - ETA: 0s - loss: 0.0100 - mean_io_u: 0.3750 - accuracy: 0.9983\n",
      "Epoch 00032: val_loss did not improve from 2.03435\n",
      "12/12 [==============================] - 2s 203ms/sample - loss: 0.0100 - mean_io_u: 0.3750 - accuracy: 0.9983 - val_loss: 2.0834 - val_mean_io_u: 0.8442 - val_accuracy: 0.8703\n",
      "Epoch 33/100\n",
      "11/12 [==========================>...] - ETA: 0s - loss: 0.0094 - mean_io_u: 0.3750 - accuracy: 0.9985\n",
      "Epoch 00033: val_loss did not improve from 2.03435\n",
      "12/12 [==============================] - 2s 201ms/sample - loss: 0.0097 - mean_io_u: 0.3750 - accuracy: 0.9984 - val_loss: 2.1435 - val_mean_io_u: 0.8404 - val_accuracy: 0.8666\n",
      "Epoch 34/100\n",
      "11/12 [==========================>...] - ETA: 0s - loss: 0.0093 - mean_io_u: 0.3750 - accuracy: 0.9985\n",
      "Epoch 00034: val_loss did not improve from 2.03435\n",
      "12/12 [==============================] - 2s 203ms/sample - loss: 0.0089 - mean_io_u: 0.3750 - accuracy: 0.9985 - val_loss: 2.1445 - val_mean_io_u: 0.8404 - val_accuracy: 0.8667\n",
      "Epoch 35/100\n",
      "11/12 [==========================>...] - ETA: 0s - loss: 0.0096 - mean_io_u: 0.3750 - accuracy: 0.9983\n",
      "Epoch 00035: val_loss did not improve from 2.03435\n",
      "12/12 [==============================] - 3s 215ms/sample - loss: 0.0092 - mean_io_u: 0.3750 - accuracy: 0.9983 - val_loss: 2.1858 - val_mean_io_u: 0.8379 - val_accuracy: 0.8640\n",
      "Epoch 36/100\n",
      "11/12 [==========================>...] - ETA: 0s - loss: 0.0092 - mean_io_u: 0.3750 - accuracy: 0.9982\n",
      "Epoch 00036: val_loss did not improve from 2.03435\n",
      "12/12 [==============================] - 3s 212ms/sample - loss: 0.0090 - mean_io_u: 0.3750 - accuracy: 0.9982 - val_loss: 2.2616 - val_mean_io_u: 0.8335 - val_accuracy: 0.8588\n",
      "Epoch 00036: early stopping\n"
     ]
    }
   ],
   "source": [
    "# Fit model\n",
    "earlystopper = EarlyStopping(patience=15, verbose=1)\n",
    "checkpointer = ModelCheckpoint('{}/{}.h5'.format(LOGS_PATH, exp_name), verbose=1, save_best_only=True)\n",
    "results = model.fit(x_train, y_train, validation_data=(x_valid, y_valid), batch_size=1, epochs=100, \n",
    "                    callbacks=[earlystopper, checkpointer])"
   ]
  },
  {
   "cell_type": "markdown",
   "metadata": {
    "_cell_guid": "1f381f5b-1b71-4daa-a417-e02f4894540b",
    "_uuid": "bb15226ea617cf91ed8f43179fccb5a15809e5a0"
   },
   "source": [
    "\n",
    "# Make predictions"
   ]
  },
  {
   "cell_type": "code",
   "execution_count": 11,
   "metadata": {},
   "outputs": [],
   "source": [
    "def visualize(name1, **images):\n",
    "    \"\"\"Plot images in one row.\"\"\"\n",
    "    \n",
    "    norm=plt.Normalize(0,3) # 5 classes including BG\n",
    "    map_name = matplotlib.colors.LinearSegmentedColormap.from_list(\"\", [\"black\", \"red\",\"yellow\",\"blue\"])\n",
    "\n",
    "    \n",
    "    n = len(images)\n",
    "    plt.figure(figsize=(18, 16))\n",
    "    for i, (name, image) in enumerate(images.items()):\n",
    "        plt.subplot(1, n, i + 1)\n",
    "        plt.xticks([])\n",
    "        plt.yticks([])\n",
    "        plt.title(' '.join(name.split('_')).title())\n",
    "        plt.imshow(image, cmap=map_name, norm=norm)\n",
    "    \n",
    "    #file = os.path.join(figresults_path, \"{}.png\".format(name1[:-4]))\n",
    "    #print(figresults_path)\n",
    "    #print(\"filename: \" + file)\n",
    "    #plt.savefig(file, bbox_inches=\"tight\")\n",
    "    plt.show()"
   ]
  },
  {
   "cell_type": "code",
   "execution_count": 12,
   "metadata": {},
   "outputs": [],
   "source": [
    "model = None\n",
    "model = load_model(\"{}/{}.h5\".format(LOGS_PATH, exp_name))"
   ]
  },
  {
   "cell_type": "code",
   "execution_count": null,
   "metadata": {},
   "outputs": [],
   "source": [
    "# model = None\n",
    "# model = load_model('{}/{}.h5'.format(LOGS_PATH, exp_name), compile=False)\n",
    "# model.summary()"
   ]
  },
  {
   "cell_type": "code",
   "execution_count": 19,
   "metadata": {},
   "outputs": [
    {
     "name": "stdout",
     "output_type": "stream",
     "text": [
      "Index: 6, Filename: 14.png\n",
      "Image shape: (96, 96, 3) <class 'numpy.ndarray'>\n",
      "[4.2882988e-05 4.3444848e-05 4.6672678e-05 ... 9.8682922e-01 9.8729950e-01\n",
      " 9.8735064e-01]\n",
      "[0 1]\n",
      "[0 1]\n"
     ]
    },
    {
     "data": {
      "image/png": "[encoded data removed]",
      "text/plain": [
       "<Figure size 1296x1152 with 3 Axes>"
      ]
     },
     "metadata": {},
     "output_type": "display_data"
    }
   ],
   "source": [
    "image_fns = sorted(next(os.walk(TEST_PATH))[2])\n",
    "idx = random.randrange(len(image_fns))\n",
    "print(\"Index: {}, Filename: {}\".format(idx, image_fns[idx]))\n",
    "\n",
    "image = skimage.io.imread(os.path.join(TEST_PATH, image_fns[idx]))\n",
    "print(\"Image shape:\", image.shape, type(image))\n",
    "image = image/255.0\n",
    "\n",
    "pred = np.expand_dims(image, axis=0)\n",
    "pred = model.predict(pred)\n",
    "print(np.unique(pred[:,:,:,1]))\n",
    "pred = np.argmax(pred.squeeze(), axis=-1)\n",
    "\n",
    "print(np.unique(pred))\n",
    "pred = pred.astype(np.uint8)\n",
    "print(np.unique(pred))\n",
    "\n",
    "pred_filt = cv2.medianBlur(pred.astype(np.uint8), 5)\n",
    "\n",
    "visualize(\n",
    "        image_fns[idx],\n",
    "        image=image,\n",
    "        mask = pred,\n",
    "        Predicted2_mask = pred_filt\n",
    "    )"
   ]
  },
  {
   "cell_type": "code",
   "execution_count": null,
   "metadata": {
    "_cell_guid": "2daa48d5-ac98-4e18-af3f-a582baaa44f0",
    "_uuid": "f841760b4abca1a25cb750822f88268bd79bf2ce"
   },
   "outputs": [],
   "source": [
    "# Predict on train, val and test\n",
    "model = load_model('model_unet_checkpoint.h5')\n",
    "preds_train = model.predict(X_train[:int(X_train.shape[0]*0.9)], verbose=1)\n",
    "preds_val = model.predict(X_train[int(X_train.shape[0]*0.9):], verbose=1)\n",
    "preds_test = model.predict(X_test, verbose=1)\n",
    "\n",
    "# Threshold predictions\n",
    "preds_train_t = (preds_train > 0.5).astype(np.uint8)\n",
    "preds_val_t = (preds_val > 0.5).astype(np.uint8)\n",
    "preds_test_t = (preds_test > 0.5).astype(np.uint8)\n",
    "\n",
    "# Create list of upsampled test masks\n",
    "preds_test_upsampled = []\n",
    "for i in range(len(preds_test_t)):\n",
    "    preds_test_upsampled.append(resize(np.squeeze(preds_test_t[i]), \n",
    "                                       (sizes_test[i][0], sizes_test[i][1]), \n",
    "                                       mode='constant', preserve_range=True))"
   ]
  },
  {
   "cell_type": "code",
   "execution_count": null,
   "metadata": {
    "_cell_guid": "649248cd-a1fb-4da6-ade2-4bebad44bcab",
    "_uuid": "7e06242a50870e07a080064a4912b761775990fa"
   },
   "outputs": [],
   "source": [
    "# Perform a sanity check on some random training samples\n",
    "ix = random.randint(0, len(preds_test_t))\n",
    "imshow(X_train[ix])\n",
    "plt.show()\n",
    "imshow(np.squeeze(Y_train[ix]))\n",
    "plt.show()\n",
    "imshow(np.squeeze(preds_train_t[ix]))\n",
    "plt.show()"
   ]
  },
  {
   "cell_type": "code",
   "execution_count": null,
   "metadata": {
    "_cell_guid": "4f66b75c-c694-41a1-8c91-34bb6595837b",
    "_uuid": "d4ccbb559375bc2777ffb692a20adc313159f2cc"
   },
   "outputs": [],
   "source": [
    "# Perform a sanity check on some random validation samples\n",
    "ix = random.randint(0, len(preds_val_t))\n",
    "imshow(X_train[int(X_train.shape[0]*0.9):][ix])\n",
    "plt.show()\n",
    "imshow(np.squeeze(Y_train[int(Y_train.shape[0]*0.9):][ix]))\n",
    "plt.show()\n",
    "imshow(np.squeeze(preds_val_t[ix]))\n",
    "plt.show()"
   ]
  }
 ],
 "metadata": {
  "kernelspec": {
   "display_name": "Python 3",
   "language": "python",
   "name": "python3"
  },
  "language_info": {
   "codemirror_mode": {
    "name": "ipython",
    "version": 3
   },
   "file_extension": ".py",
   "mimetype": "text/x-python",
   "name": "python",
   "nbconvert_exporter": "python",
   "pygments_lexer": "ipython3",
   "version": "3.6.10"
  }
 },
 "nbformat": 4,
 "nbformat_minor": 1
}
